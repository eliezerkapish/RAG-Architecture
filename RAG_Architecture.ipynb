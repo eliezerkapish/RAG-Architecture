{
  "nbformat": 4,
  "nbformat_minor": 0,
  "metadata": {
    "colab": {
      "provenance": [],
      "authorship_tag": "ABX9TyMMI7Rkv9Lgess/Uj+Syh+3",
      "include_colab_link": true
    },
    "kernelspec": {
      "name": "python3",
      "display_name": "Python 3"
    },
    "language_info": {
      "name": "python"
    }
  },
  "cells": [
    {
      "cell_type": "markdown",
      "metadata": {
        "id": "view-in-github",
        "colab_type": "text"
      },
      "source": [
        "<a href=\"https://colab.research.google.com/github/eliezerkapish/RAG-Architecture/blob/main/RAG_Architecture.ipynb\" target=\"_parent\"><img src=\"https://colab.research.google.com/assets/colab-badge.svg\" alt=\"Open In Colab\"/></a>"
      ]
    },
    {
      "cell_type": "markdown",
      "source": [
        "# RAG Architecture"
      ],
      "metadata": {
        "id": "SAPx8MNJ9kqR"
      }
    },
    {
      "cell_type": "markdown",
      "source": [
        "RAG Architecture is a framework combining information retrieval with natural language generation to enhance AI responses."
      ],
      "metadata": {
        "id": "vAGXYtNgGoPy"
      }
    },
    {
      "cell_type": "markdown",
      "source": [
        "## Installing Packages"
      ],
      "metadata": {
        "id": "AfG4_PGt9trG"
      }
    },
    {
      "cell_type": "code",
      "execution_count": 1,
      "metadata": {
        "colab": {
          "base_uri": "https://localhost:8080/"
        },
        "id": "kODDj_bEuXGr",
        "outputId": "780a1760-57c3-49ce-c94e-1390c45a6860"
      },
      "outputs": [
        {
          "output_type": "stream",
          "name": "stdout",
          "text": [
            "Requirement already satisfied: transformers in /usr/local/lib/python3.10/dist-packages (4.46.2)\n",
            "Requirement already satisfied: sentence-transformers in /usr/local/lib/python3.10/dist-packages (3.2.1)\n",
            "Collecting faiss-cpu\n",
            "  Downloading faiss_cpu-1.9.0.post1-cp310-cp310-manylinux_2_17_x86_64.manylinux2014_x86_64.whl.metadata (4.4 kB)\n",
            "Requirement already satisfied: filelock in /usr/local/lib/python3.10/dist-packages (from transformers) (3.16.1)\n",
            "Requirement already satisfied: huggingface-hub<1.0,>=0.23.2 in /usr/local/lib/python3.10/dist-packages (from transformers) (0.26.2)\n",
            "Requirement already satisfied: numpy>=1.17 in /usr/local/lib/python3.10/dist-packages (from transformers) (1.26.4)\n",
            "Requirement already satisfied: packaging>=20.0 in /usr/local/lib/python3.10/dist-packages (from transformers) (24.2)\n",
            "Requirement already satisfied: pyyaml>=5.1 in /usr/local/lib/python3.10/dist-packages (from transformers) (6.0.2)\n",
            "Requirement already satisfied: regex!=2019.12.17 in /usr/local/lib/python3.10/dist-packages (from transformers) (2024.9.11)\n",
            "Requirement already satisfied: requests in /usr/local/lib/python3.10/dist-packages (from transformers) (2.32.3)\n",
            "Requirement already satisfied: safetensors>=0.4.1 in /usr/local/lib/python3.10/dist-packages (from transformers) (0.4.5)\n",
            "Requirement already satisfied: tokenizers<0.21,>=0.20 in /usr/local/lib/python3.10/dist-packages (from transformers) (0.20.3)\n",
            "Requirement already satisfied: tqdm>=4.27 in /usr/local/lib/python3.10/dist-packages (from transformers) (4.66.6)\n",
            "Requirement already satisfied: torch>=1.11.0 in /usr/local/lib/python3.10/dist-packages (from sentence-transformers) (2.5.1+cu121)\n",
            "Requirement already satisfied: scikit-learn in /usr/local/lib/python3.10/dist-packages (from sentence-transformers) (1.5.2)\n",
            "Requirement already satisfied: scipy in /usr/local/lib/python3.10/dist-packages (from sentence-transformers) (1.13.1)\n",
            "Requirement already satisfied: Pillow in /usr/local/lib/python3.10/dist-packages (from sentence-transformers) (11.0.0)\n",
            "Requirement already satisfied: fsspec>=2023.5.0 in /usr/local/lib/python3.10/dist-packages (from huggingface-hub<1.0,>=0.23.2->transformers) (2024.10.0)\n",
            "Requirement already satisfied: typing-extensions>=3.7.4.3 in /usr/local/lib/python3.10/dist-packages (from huggingface-hub<1.0,>=0.23.2->transformers) (4.12.2)\n",
            "Requirement already satisfied: networkx in /usr/local/lib/python3.10/dist-packages (from torch>=1.11.0->sentence-transformers) (3.4.2)\n",
            "Requirement already satisfied: jinja2 in /usr/local/lib/python3.10/dist-packages (from torch>=1.11.0->sentence-transformers) (3.1.4)\n",
            "Requirement already satisfied: sympy==1.13.1 in /usr/local/lib/python3.10/dist-packages (from torch>=1.11.0->sentence-transformers) (1.13.1)\n",
            "Requirement already satisfied: mpmath<1.4,>=1.1.0 in /usr/local/lib/python3.10/dist-packages (from sympy==1.13.1->torch>=1.11.0->sentence-transformers) (1.3.0)\n",
            "Requirement already satisfied: charset-normalizer<4,>=2 in /usr/local/lib/python3.10/dist-packages (from requests->transformers) (3.4.0)\n",
            "Requirement already satisfied: idna<4,>=2.5 in /usr/local/lib/python3.10/dist-packages (from requests->transformers) (3.10)\n",
            "Requirement already satisfied: urllib3<3,>=1.21.1 in /usr/local/lib/python3.10/dist-packages (from requests->transformers) (2.2.3)\n",
            "Requirement already satisfied: certifi>=2017.4.17 in /usr/local/lib/python3.10/dist-packages (from requests->transformers) (2024.8.30)\n",
            "Requirement already satisfied: joblib>=1.2.0 in /usr/local/lib/python3.10/dist-packages (from scikit-learn->sentence-transformers) (1.4.2)\n",
            "Requirement already satisfied: threadpoolctl>=3.1.0 in /usr/local/lib/python3.10/dist-packages (from scikit-learn->sentence-transformers) (3.5.0)\n",
            "Requirement already satisfied: MarkupSafe>=2.0 in /usr/local/lib/python3.10/dist-packages (from jinja2->torch>=1.11.0->sentence-transformers) (3.0.2)\n",
            "Downloading faiss_cpu-1.9.0.post1-cp310-cp310-manylinux_2_17_x86_64.manylinux2014_x86_64.whl (27.5 MB)\n",
            "\u001b[2K   \u001b[90m━━━━━━━━━━━━━━━━━━━━━━━━━━━━━━━━━━━━━━━━\u001b[0m \u001b[32m27.5/27.5 MB\u001b[0m \u001b[31m10.8 MB/s\u001b[0m eta \u001b[36m0:00:00\u001b[0m\n",
            "\u001b[?25hInstalling collected packages: faiss-cpu\n",
            "Successfully installed faiss-cpu-1.9.0.post1\n"
          ]
        }
      ],
      "source": [
        "!pip install transformers sentence-transformers faiss-cpu"
      ]
    },
    {
      "cell_type": "markdown",
      "source": [
        "## Importing Libraries"
      ],
      "metadata": {
        "id": "LSBM8lVP94zV"
      }
    },
    {
      "cell_type": "code",
      "source": [
        "from transformers import AutoTokenizer, AutoModelForSeq2SeqLM\n",
        "from sentence_transformers import SentenceTransformer\n",
        "import faiss\n",
        "import numpy as np"
      ],
      "metadata": {
        "id": "wv8PZhZevVK5"
      },
      "execution_count": 2,
      "outputs": []
    },
    {
      "cell_type": "code",
      "source": [],
      "metadata": {
        "id": "mcqEay4B-2uy"
      },
      "execution_count": null,
      "outputs": []
    },
    {
      "cell_type": "markdown",
      "source": [
        "## Document database simulation"
      ],
      "metadata": {
        "id": "uTpqGVjC9-E2"
      }
    },
    {
      "cell_type": "code",
      "source": [
        "# Document database simulation\n",
        "\n",
        "documents = [\n",
        "    \"Uranium is a vital component for the production of nuclear fuel, which is used in nuclear power reactors all over the world.\",\n",
        "    \"Uranium is a naturally occurring radioactive element, which has the atomic number of 92 and corresponds to the chemical symbol U in the periodic table.\",\n",
        "    \"Bitcoin is a form of digital currency that uses blockchain technology to support transactions between users on a decentralized network\",\n",
        "    ]"
      ],
      "metadata": {
        "id": "sEF_IknZvuhS"
      },
      "execution_count": 4,
      "outputs": []
    },
    {
      "cell_type": "markdown",
      "source": [
        "## Step 1 = Indexing documents using embeddings"
      ],
      "metadata": {
        "id": "tX02ZcJM-E9k"
      }
    },
    {
      "cell_type": "code",
      "source": [
        "# Step1 = Indexing documents using embeddings\n",
        "embedder = SentenceTransformer('all-MiniLM-L6-v2')\n",
        "document_embeddings = embedder.encode(documents)"
      ],
      "metadata": {
        "id": "LrRPkpprw4DP"
      },
      "execution_count": 5,
      "outputs": []
    },
    {
      "cell_type": "markdown",
      "source": [
        "## FAISS criation"
      ],
      "metadata": {
        "id": "-l6_oPwg-MhS"
      }
    },
    {
      "cell_type": "code",
      "source": [
        "#FAISS criation\n",
        "d= document_embeddings.shape[1]\n",
        "index = faiss.IndexFlatL2(d)\n",
        "index.add(document_embeddings)"
      ],
      "metadata": {
        "id": "wp9DK4k-xYAn"
      },
      "execution_count": 8,
      "outputs": []
    },
    {
      "cell_type": "markdown",
      "source": [
        "## Relevant document function"
      ],
      "metadata": {
        "id": "G49GSU8c-QPX"
      }
    },
    {
      "cell_type": "code",
      "source": [
        "#Relevant document function\n",
        "def retrieve_documents(query, k=2):\n",
        "    query_embedding = embedder.encode([query])\n",
        "    distances, indices = index.search(query_embedding, k)\n",
        "    retrieved_docs = [documents[idx] for idx in indices[0]]\n",
        "    return retrieved_docs"
      ],
      "metadata": {
        "id": "RxDoiKPxxwVm"
      },
      "execution_count": 45,
      "outputs": []
    },
    {
      "cell_type": "markdown",
      "source": [
        "## Loading Generator Model (Using T5 for summary)"
      ],
      "metadata": {
        "id": "UHqbuGYQ-Ubb"
      }
    },
    {
      "cell_type": "code",
      "source": [
        "#Loading Generator Model (Using T5 for summary)\n",
        "tokenizer = AutoTokenizer.from_pretrained('t5-small')\n",
        "model = AutoModelForSeq2SeqLM.from_pretrained('t5-small')"
      ],
      "metadata": {
        "id": "IWzg6plMzC7X"
      },
      "execution_count": 46,
      "outputs": []
    },
    {
      "cell_type": "markdown",
      "source": [
        "## Answers Generator"
      ],
      "metadata": {
        "id": "dLZ82GOX-bQD"
      }
    },
    {
      "cell_type": "code",
      "source": [
        "# Answers Generator\n",
        "def generate_answer(question, retrieved_docs):\n",
        "  context = \" \".join(retrieved_docs)\n",
        "  input_text = f'Summarize: question: {question} context: {context}'\n",
        "  inputs = tokenizer(input_text, return_tensors = 'pt', max_length=512, truncation=True)\n",
        "  outputs = model.generate(**inputs, max_length=150, num_beams=5, early_stopping = True)\n",
        "  answer = tokenizer.decode(outputs[0], skip_special_tokens=True)\n",
        "  return answer"
      ],
      "metadata": {
        "id": "4OmMnZGs0--x"
      },
      "execution_count": 47,
      "outputs": []
    },
    {
      "cell_type": "markdown",
      "source": [
        "## Use Example"
      ],
      "metadata": {
        "id": "LbnvulPR-hXr"
      }
    },
    {
      "cell_type": "code",
      "source": [
        "# Use example\n",
        "if __name__ == \"__main__\":\n",
        "    question = \"What is Bitcoin?\"\n",
        "    retrieved_docs = retrieve_documents(question)\n",
        "    answer = generate_answer(question, retrieved_docs)\n",
        "    print(\"Question:\", question)\n",
        "    print(\"Answer:\", answer)"
      ],
      "metadata": {
        "colab": {
          "base_uri": "https://localhost:8080/"
        },
        "id": "SyCweFkz4lVb",
        "outputId": "3157ea1c-311b-4c27-f294-1e6bf6b717a5"
      },
      "execution_count": 48,
      "outputs": [
        {
          "output_type": "stream",
          "name": "stdout",
          "text": [
            "Question: What is Bitcoin?\n",
            "Answer: digital currency\n"
          ]
        }
      ]
    }
  ]
}